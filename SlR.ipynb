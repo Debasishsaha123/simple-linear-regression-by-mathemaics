{
 "cells": [
  {
   "cell_type": "markdown",
   "id": "4a94ca80",
   "metadata": {},
   "source": [
    "# first model"
   ]
  },
  {
   "cell_type": "code",
   "execution_count": 44,
   "id": "3134671c",
   "metadata": {},
   "outputs": [
    {
     "name": "stdout",
     "output_type": "stream",
     "text": [
      "Intercept:  26.78082191780822\n",
      "Slope:  0.6438356164383562\n"
     ]
    }
   ],
   "source": [
    "import  matplotlib.pyplot as plt\n",
    "import numpy as np\n",
    "x=np.array([95,85,80,70,60]) #independent\n",
    "y=np.array([85,95,70,65,70]) #dependent\n",
    "n=np.size(x)\n",
    "\n",
    "m_x,m_y=np.mean(x),np.mean(y)\n",
    "\n",
    "ss_xy=np.sum(y*x)-n* m_x *m_y\n",
    "\n",
    "ss_xx=np.sum(x*x)-n* m_x *m_x\n",
    "\n",
    "b0_1=ss_xy/ss_xx #slope\n",
    "\n",
    "b0_0=m_y-b0_1*m_x #intercept\n",
    "def predict(x):\n",
    "    y_pred=b0_0+b0_1*x\n",
    "    return y_pred\n",
    "\n",
    "print('Intercept: ',b0_0)\n",
    "\n",
    "print('Slope: ',b0_1)"
   ]
  },
  {
   "cell_type": "code",
   "execution_count": 45,
   "id": "d9934b70",
   "metadata": {},
   "outputs": [
    {
     "name": "stdout",
     "output_type": "stream",
     "text": [
      "60.41522986797286\n",
      "56.124860801609124\n",
      "covariance:  2350\n",
      "Correlation coefficient:  0.6930525298193004\n"
     ]
    }
   ],
   "source": [
    "import math \n",
    "sigma_x=math.sqrt(n*np.sum(x*x)-np.sum(x)*np.sum(x))\n",
    "sigma_y=math.sqrt(n*np.sum(y*y)-np.sum(y)*np.sum(y))\n",
    "print(sigma_x)\n",
    "print(sigma_y)\n",
    "cov_xy=(n*np.sum(x*y))-np.sum(x)*np.sum(y)\n",
    "print('covariance: ',cov)\n",
    "cor_coeff=cov_xy/(sigma_x*sigma_y)\n",
    "print('Correlation coefficient: ',cor_coeff)"
   ]
  },
  {
   "cell_type": "code",
   "execution_count": 50,
   "id": "457ecc9f",
   "metadata": {},
   "outputs": [
    {
     "name": "stdout",
     "output_type": "stream",
     "text": [
      "0.4803218090889325\n"
     ]
    }
   ],
   "source": [
    "sse=sum((y-y_pred)*(y-y_pred))\n",
    "sst=sum((y-m_y)*(y-m_y))\n",
    "r2_cal=1-(sse/sst)\n",
    "print(r2_cal)"
   ]
  },
  {
   "cell_type": "code",
   "execution_count": 34,
   "id": "bebfed8b",
   "metadata": {},
   "outputs": [
    {
     "name": "stdout",
     "output_type": "stream",
     "text": [
      "[87.94520548 81.50684932 78.28767123 71.84931507 65.4109589 ]\n"
     ]
    }
   ],
   "source": [
    "print(y_pred)"
   ]
  },
  {
   "cell_type": "code",
   "execution_count": 35,
   "id": "2fa52dd4",
   "metadata": {},
   "outputs": [
    {
     "data": {
      "text/plain": [
       "[<matplotlib.lines.Line2D at 0x14e6df30370>]"
      ]
     },
     "execution_count": 35,
     "metadata": {},
     "output_type": "execute_result"
    },
    {
     "data": {
      "image/png": "[encoded data removed]",
      "text/plain": [
       "<Figure size 432x288 with 1 Axes>"
      ]
     },
     "metadata": {
      "needs_background": "light"
     },
     "output_type": "display_data"
    }
   ],
   "source": [
    "plt.scatter(x,y)\n",
    "plt.plot(x,y_pred,color='k',marker='o')"
   ]
  },
  {
   "cell_type": "code",
   "execution_count": 36,
   "id": "a428f584",
   "metadata": {},
   "outputs": [
    {
     "name": "stdout",
     "output_type": "stream",
     "text": [
      "0.4803218090889325\n"
     ]
    }
   ],
   "source": [
    "from sklearn.metrics import r2_score\n",
    "print(r2_score(y,y_pred))"
   ]
  },
  {
   "cell_type": "code",
   "execution_count": 37,
   "id": "fdc8c24d",
   "metadata": {},
   "outputs": [
    {
     "name": "stdout",
     "output_type": "stream",
     "text": [
      "0.6930525298193005\n"
     ]
    }
   ],
   "source": [
    "r2=r2_score(y,y_pred)\n",
    "r=r2**0.5\n",
    "print(r)"
   ]
  },
  {
   "cell_type": "code",
   "execution_count": 41,
   "id": "ad3eb5fd",
   "metadata": {},
   "outputs": [
    {
     "data": {
      "text/plain": [
       "80.86301369863014"
      ]
     },
     "execution_count": 41,
     "metadata": {},
     "output_type": "execute_result"
    }
   ],
   "source": [
    "predict(84)"
   ]
  },
  {
   "cell_type": "markdown",
   "id": "a564f66f",
   "metadata": {},
   "source": [
    "# Second model"
   ]
  },
  {
   "cell_type": "code",
   "execution_count": 53,
   "id": "512986af",
   "metadata": {},
   "outputs": [
    {
     "name": "stdout",
     "output_type": "stream",
     "text": [
      "Intercept:  -159.47415234086435\n",
      "Slope:  30.087861794245303\n"
     ]
    }
   ],
   "source": [
    "x=np.array([14.2,16.4,11.9,15.2,18.5,22.1,19.4,25.1,23.4,18.1,22.6,17.2])\n",
    "y=np.array([215,325,185,332,406,522,412,614,544,421,445,408])\n",
    "n=np.size(x)\n",
    "\n",
    "m_x,m_y=np.mean(x),np.mean(y)\n",
    "\n",
    "ss_xy=np.sum(y*x)-n* m_x *m_y\n",
    "\n",
    "ss_xx=np.sum(x*x)-n* m_x *m_x\n",
    "\n",
    "b0_1=ss_xy/ss_xx #slope\n",
    "\n",
    "b0_0=m_y-b0_1*m_x #intercept\n",
    "\n",
    "y_pred=b0_0+b0_1*x\n",
    "\n",
    "print('Intercept: ',b0_0)\n",
    "\n",
    "print('Slope: ',b0_1)"
   ]
  },
  {
   "cell_type": "code",
   "execution_count": 54,
   "id": "98e9c3f0",
   "metadata": {},
   "outputs": [
    {
     "name": "stdout",
     "output_type": "stream",
     "text": [
      "46.08459612495273\n",
      "1448.122577684638\n",
      "covariance:  2350\n",
      "Correlation coefficient:  0.9575066230015973\n"
     ]
    }
   ],
   "source": [
    "import math \n",
    "sigma_x=math.sqrt(n*np.sum(x*x)-np.sum(x)*np.sum(x))\n",
    "sigma_y=math.sqrt(n*np.sum(y*y)-np.sum(y)*np.sum(y))\n",
    "print(sigma_x)\n",
    "print(sigma_y)\n",
    "cov_xy=(n*np.sum(x*y))-np.sum(x)*np.sum(y)\n",
    "print('covariance: ',cov)\n",
    "cor_coeff=cov_xy/(sigma_x*sigma_y)\n",
    "print('Correlation coefficient: ',cor_coeff)"
   ]
  },
  {
   "cell_type": "code",
   "execution_count": 55,
   "id": "b0067017",
   "metadata": {},
   "outputs": [
    {
     "name": "stdout",
     "output_type": "stream",
     "text": [
      "0.916818933091919\n"
     ]
    }
   ],
   "source": [
    "sse=sum((y-y_pred)*(y-y_pred))\n",
    "sst=sum((y-m_y)*(y-m_y))\n",
    "r2_cal=1-(sse/sst)\n",
    "print(r2_cal)"
   ]
  },
  {
   "cell_type": "code",
   "execution_count": 56,
   "id": "ecc84026",
   "metadata": {},
   "outputs": [
    {
     "data": {
      "text/plain": [
       "[<matplotlib.lines.Line2D at 0x14e6dfac4c0>]"
      ]
     },
     "execution_count": 56,
     "metadata": {},
     "output_type": "execute_result"
    },
    {
     "data": {
      "image/png": "[encoded data removed]",
      "text/plain": [
       "<Figure size 432x288 with 1 Axes>"
      ]
     },
     "metadata": {
      "needs_background": "light"
     },
     "output_type": "display_data"
    }
   ],
   "source": [
    "plt.scatter(x,y)\n",
    "plt.plot(x,y_pred,color='k',marker='o')"
   ]
  },
  {
   "cell_type": "code",
   "execution_count": 57,
   "id": "6869bdd1",
   "metadata": {},
   "outputs": [
    {
     "name": "stdout",
     "output_type": "stream",
     "text": [
      "0.9168189330919189\n"
     ]
    }
   ],
   "source": [
    "print(r2_score(y,y_pred))"
   ]
  },
  {
   "cell_type": "code",
   "execution_count": 58,
   "id": "de6d9752",
   "metadata": {},
   "outputs": [
    {
     "name": "stdout",
     "output_type": "stream",
     "text": [
      "0.9575066230015952\n"
     ]
    }
   ],
   "source": [
    "r2=r2_score(y,y_pred)\n",
    "r=r2**0.5\n",
    "print(r)"
   ]
  },
  {
   "cell_type": "markdown",
   "id": "84ac6363",
   "metadata": {},
   "source": [
    "mldlnitwmay2022@gmail.com"
   ]
  },
  {
   "cell_type": "code",
   "execution_count": null,
   "id": "55f69268",
   "metadata": {},
   "outputs": [],
   "source": []
  }
 ],
 "metadata": {
  "kernelspec": {
   "display_name": "Python 3 (ipykernel)",
   "language": "python",
   "name": "python3"
  },
  "language_info": {
   "codemirror_mode": {
    "name": "ipython",
    "version": 3
   },
   "file_extension": ".py",
   "mimetype": "text/x-python",
   "name": "python",
   "nbconvert_exporter": "python",
   "pygments_lexer": "ipython3",
   "version": "3.10.0"
  }
 },
 "nbformat": 4,
 "nbformat_minor": 5
}
